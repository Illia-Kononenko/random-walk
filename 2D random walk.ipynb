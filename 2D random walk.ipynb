{
 "cells": [
  {
   "cell_type": "code",
   "execution_count": 1,
   "id": "8ef5e19a",
   "metadata": {},
   "outputs": [
    {
     "name": "stderr",
     "output_type": "stream",
     "text": [
      "No artists with labels found to put in legend.  Note that artists whose label start with an underscore are ignored when legend() is called with no argument.\n"
     ]
    },
    {
     "data": {
      "image/png": "[encoded data removed]",
      "text/plain": [
       "<Figure size 432x288 with 1 Axes>"
      ]
     },
     "metadata": {
      "needs_background": "light"
     },
     "output_type": "display_data"
    },
    {
     "name": "stdout",
     "output_type": "stream",
     "text": [
      "slope 1.4141174813225748\n",
      "intercept 0.005086962924844229\n",
      "slope**2 1.9997282509821026\n"
     ]
    }
   ],
   "source": [
    "import random\n",
    "import matplotlib.pyplot as plt\n",
    "import math\n",
    "import numpy as np\n",
    "from scipy import stats\n",
    "from scipy.stats import linregress\n",
    "sqrt_t=np.array([])\n",
    "sqrt_d_squared=np.array([])\n",
    "step=[-1,1]\n",
    "for n in range(100):\n",
    "    sqrt_t=np.append(sqrt_t, math.sqrt(n))\n",
    "    x_final=np.array([])\n",
    "    y_final=np.array([])\n",
    "    for i in range(10000):\n",
    "        x=0\n",
    "        y=0\n",
    "        for i in range(n):\n",
    "            x=x+random.choice(step)\n",
    "            y=y+random.choice(step)\n",
    "        x_final=np.append(x_final, x)\n",
    "        y_final=np.append(y_final, y)\n",
    "    mean_square_a=np.sqrt(np.average(x_final**2+y_final**2)) \n",
    "    sqrt_d_squared=np.append(sqrt_d_squared, mean_square_a)\n",
    "sqrt_t1=sqrt_t.tolist()\n",
    "sqrt_d_squared1=sqrt_d_squared.tolist()\n",
    "slope, intercept, r, p, std_err = stats.linregress(sqrt_t.tolist(), sqrt_d_squared.tolist())    \n",
    "plt.scatter(sqrt_t.tolist(), sqrt_d_squared.tolist())\n",
    "def myfunc(x):\n",
    "  return slope * x + intercept\n",
    "mymodel = list(map(myfunc, sqrt_t))\n",
    "plt.plot(sqrt_t.tolist(), mymodel)\n",
    "plt.xlabel(\"sqrt(t)\")\n",
    "plt.ylabel(\"sqrt(<d>^2)\")\n",
    "plt.title(\"Resultss\")\n",
    "plt.legend()\n",
    "plt.show()\n",
    "print('slope',slope)\n",
    "print('intercept',intercept)\n",
    "print('slope**2',slope**2)"
   ]
  },
  {
   "cell_type": "code",
   "execution_count": null,
   "id": "0776c726",
   "metadata": {},
   "outputs": [],
   "source": []
  }
 ],
 "metadata": {
  "kernelspec": {
   "display_name": "Python 3 (ipykernel)",
   "language": "python",
   "name": "python3"
  },
  "language_info": {
   "codemirror_mode": {
    "name": "ipython",
    "version": 3
   },
   "file_extension": ".py",
   "mimetype": "text/x-python",
   "name": "python",
   "nbconvert_exporter": "python",
   "pygments_lexer": "ipython3",
   "version": "3.9.12"
  }
 },
 "nbformat": 4,
 "nbformat_minor": 5
}
