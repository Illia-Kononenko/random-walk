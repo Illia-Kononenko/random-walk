{
 "cells": [
  {
   "cell_type": "code",
   "execution_count": 2,
   "id": "48059508",
   "metadata": {},
   "outputs": [
    {
     "name": "stderr",
     "output_type": "stream",
     "text": [
      "No artists with labels found to put in legend.  Note that artists whose label start with an underscore are ignored when legend() is called with no argument.\n"
     ]
    },
    {
     "data": {
      "image/png": "[encoded data removed]",
      "text/plain": [
       "<Figure size 432x288 with 1 Axes>"
      ]
     },
     "metadata": {
      "needs_background": "light"
     },
     "output_type": "display_data"
    },
    {
     "name": "stdout",
     "output_type": "stream",
     "text": [
      "slope 0.9966003266012433\n",
      "intercept 0.01591408576734743\n"
     ]
    }
   ],
   "source": [
    "import random\n",
    "import matplotlib.pyplot as plt\n",
    "import math\n",
    "from scipy import stats\n",
    "sqrt_t=[]\n",
    "sqrt_d_squared=[]\n",
    "step=[-1,1]\n",
    "for n in range(100):\n",
    "    sqrt_t.append(math.sqrt(n))\n",
    "    a_squared=[]\n",
    "    for i in range(1000):\n",
    "        a=0\n",
    "        for i in range(n):\n",
    "            a=a+random.choice(step)\n",
    "        a_squared.append(a**2)    \n",
    "    mean_square_a=math.sqrt(sum(a_squared) / len(a_squared))    \n",
    "    sqrt_d_squared.append(mean_square_a)\n",
    "slope, intercept, r, p, std_err = stats.linregress(sqrt_t, sqrt_d_squared)    \n",
    "plt.scatter(sqrt_t, sqrt_d_squared)\n",
    "def myfunc(x):\n",
    "  return slope * x + intercept\n",
    "mymodel = list(map(myfunc, sqrt_t))\n",
    "plt.plot(sqrt_t, mymodel)\n",
    "plt.xlabel(\"sqrt(t)\")\n",
    "plt.ylabel(\"sqrt(<d>^2)\")\n",
    "plt.title(\"Resultss\")\n",
    "plt.legend()\n",
    "plt.show()\n",
    "print('slope',slope)\n",
    "print('intercept',intercept)"
   ]
  },
  {
   "cell_type": "code",
   "execution_count": null,
   "id": "e5904d88",
   "metadata": {},
   "outputs": [],
   "source": []
  }
 ],
 "metadata": {
  "kernelspec": {
   "display_name": "Python 3 (ipykernel)",
   "language": "python",
   "name": "python3"
  },
  "language_info": {
   "codemirror_mode": {
    "name": "ipython",
    "version": 3
   },
   "file_extension": ".py",
   "mimetype": "text/x-python",
   "name": "python",
   "nbconvert_exporter": "python",
   "pygments_lexer": "ipython3",
   "version": "3.9.12"
  }
 },
 "nbformat": 4,
 "nbformat_minor": 5
}
